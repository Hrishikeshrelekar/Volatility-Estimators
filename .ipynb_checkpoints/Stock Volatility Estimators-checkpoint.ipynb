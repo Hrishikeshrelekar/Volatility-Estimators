{
 "cells": [
  {
   "cell_type": "code",
   "execution_count": 2,
   "metadata": {},
   "outputs": [],
   "source": [
    "import numpy as np\n",
    "import pandas as pd"
   ]
  },
  {
   "cell_type": "code",
   "execution_count": 3,
   "metadata": {},
   "outputs": [],
   "source": [
    "data = pd.read_excel('Table1.xlsx')"
   ]
  },
  {
   "cell_type": "code",
   "execution_count": 12,
   "metadata": {},
   "outputs": [],
   "source": [
    "class volatility_estimators():\n",
    "    def __init__(self):\n",
    "        print(\"Volatility Estimator class has been initialized\")\n",
    "        \n",
    "    def fit(self, data):\n",
    "        self.data = data\n",
    "    \n",
    "    def estimator1(self):\n",
    "        close = self.data['Close']\n",
    "        x=np.ndarray(shape=(len(close)-1,))\n",
    "        for i in range(1,len(close)):\n",
    "            x[(i-1)]=np.log(close[i]/close[i-1])\n",
    "\n",
    "        sigma1 = np.sqrt(252*np.var(x))\n",
    "        \n",
    "        return sigma1\n",
    "    \n",
    "    def estimator2(self):\n",
    "        close = self.data['Close']\n",
    "        open_ = self.data['Open']\n",
    "    \n",
    "        c_i_star=np.log(close)\n",
    "        o_i_star=np.log(open_)\n",
    "\n",
    "        sigma2 = np.sqrt(252*(np.var((c_i_star[1:]-o_i_star[1:]))+np.var((o_i_star[1:]-c_i_star[0:len(close)-1]))))\n",
    "        \n",
    "        return sigma2\n",
    "    \n",
    "    def estimator3(self):\n",
    "        close = self.data['Close']\n",
    "        open_ = self.data['Open']\n",
    "        high = self.data['High']\n",
    "        low = self.data['Low']\n",
    "        \n",
    "        h_i_star=np.log(high)\n",
    "        l_i_star=np.log(low)\n",
    "        c_i_star = np.log(close)\n",
    "        o_i_star = np.log(open_)\n",
    "        \n",
    "        sigma3= np.sqrt(252*(0.5*np.sum((h_i_star[1:]-l_i_star[1:])**2)-0.39*np.sum((c_i_star[1:]-o_i_star[1:])**2)+np.sum((o_i_star[1:]-c_i_star[0:len(close)-1])**2))/len(close))\n",
    "        return sigma3\n",
    "\n",
    "    "
   ]
  },
  {
   "cell_type": "code",
   "execution_count": 13,
   "metadata": {},
   "outputs": [
    {
     "name": "stdout",
     "output_type": "stream",
     "text": [
      "Volatility Estimator class has been initialized\n"
     ]
    }
   ],
   "source": [
    "ve_model = volatility_estimators()"
   ]
  },
  {
   "cell_type": "code",
   "execution_count": 14,
   "metadata": {},
   "outputs": [],
   "source": [
    "ve_model.fit(data)"
   ]
  },
  {
   "cell_type": "code",
   "execution_count": 15,
   "metadata": {},
   "outputs": [
    {
     "data": {
      "text/plain": [
       "0.46799455606444895"
      ]
     },
     "execution_count": 15,
     "metadata": {},
     "output_type": "execute_result"
    }
   ],
   "source": [
    "## Volatility of stock using only closing prices \n",
    "ve_model.estimator1()"
   ]
  },
  {
   "cell_type": "code",
   "execution_count": 16,
   "metadata": {},
   "outputs": [
    {
     "data": {
      "text/plain": [
       "6.692520380743223"
      ]
     },
     "execution_count": 16,
     "metadata": {},
     "output_type": "execute_result"
    }
   ],
   "source": [
    "## Volatility of stock using closing and opening prices\n",
    "ve_model.estimator2()"
   ]
  },
  {
   "cell_type": "code",
   "execution_count": 17,
   "metadata": {},
   "outputs": [
    {
     "data": {
      "text/plain": [
       "7.693778664325848"
      ]
     },
     "execution_count": 17,
     "metadata": {},
     "output_type": "execute_result"
    }
   ],
   "source": [
    "## Volatility of stock using high, open, low and close prices \n",
    "ve_model.estimator3()"
   ]
  },
  {
   "cell_type": "code",
   "execution_count": null,
   "metadata": {},
   "outputs": [],
   "source": []
  }
 ],
 "metadata": {
  "kernelspec": {
   "display_name": "Python 3",
   "language": "python",
   "name": "python3"
  },
  "language_info": {
   "codemirror_mode": {
    "name": "ipython",
    "version": 3
   },
   "file_extension": ".py",
   "mimetype": "text/x-python",
   "name": "python",
   "nbconvert_exporter": "python",
   "pygments_lexer": "ipython3",
   "version": "3.6.10"
  }
 },
 "nbformat": 4,
 "nbformat_minor": 4
}
